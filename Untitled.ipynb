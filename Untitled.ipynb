{
 "cells": [
  {
   "cell_type": "code",
   "execution_count": 4,
   "id": "94649866-5236-4158-be65-8769487fd78c",
   "metadata": {},
   "outputs": [],
   "source": [
    "from SearchForThis2 import SearchForThis2 "
   ]
  },
  {
   "cell_type": "code",
   "execution_count": 5,
   "id": "1aa81018-583a-49c3-94f5-10db96be77a3",
   "metadata": {},
   "outputs": [
    {
     "data": {
      "text/plain": [
       "['https://www.tudogostoso.com.br/receita/31593-pudim-de-leite-condensado.html',\n",
       " 'https://receitas.globo.com/receitas-da-tv/mais-voce/pudim-de-leite-condensado-4d514bb052e0b252bc00e85a.ghtml',\n",
       " 'https://www.receitasnestle.com.br/receitas/pudim-de-leite-moca',\n",
       " 'https://fdc.nal.usda.gov/fdc-app.html#/food-details/169604/nutrients',\n",
       " 'https://www.tudogostoso.com.br/receita/24104-pudim-de-leite.html',\n",
       " 'https://panelinha.com.br/receita/pudim-de-leite',\n",
       " 'https://www.vivadecora.com.br/revista/pudim-de-leite-condensado/',\n",
       " 'https://panelinha.com.br/receita/pudim-de-leite-liso',\n",
       " 'https://receitas.globo.com/tipos-de-prato/doces-e-sobremesas/pudim-de-leite-condensado-5641fa104d388508c300004d.ghtml',\n",
       " 'https://www.terra.com.br/vida-e-estilo/degusta/receitas/pudim-de-leite-tradicional-veja-como-fazer-a-receita-sem-erro,342f7642ea99affea2835ba0ba51ae24r4ppbbee.html']"
      ]
     },
     "execution_count": 5,
     "metadata": {},
     "output_type": "execute_result"
    }
   ],
   "source": [
    "SearchForThis2.Searchft2.pesquisar(\"pudim\")"
   ]
  },
  {
   "cell_type": "code",
   "execution_count": 9,
   "id": "48cb5814-0a23-4cd0-ab2c-2c58317bce9c",
   "metadata": {
    "scrolled": true
   },
   "outputs": [
    {
     "data": {
      "text/plain": [
       "['https://pt.aliexpress.com/category/201006250/sneakers.html',\n",
       " 'https://pt.aliexpress.com/w/wholesale-tenis-masculinos.html',\n",
       " 'https://pt.aliexpress.com/w/wholesale-tenis-masculino.html',\n",
       " 'https://pt.aliexpress.com/w/wholesale-tenis-original.html',\n",
       " 'https://pt.aliexpress.com/w/wholesale-tenis-feminino.html',\n",
       " 'https://pt.aliexpress.com/w/wholesale-tenis.html',\n",
       " 'https://pt.aliexpress.com/w/wholesale-t%C3%AAnis-masculino.html',\n",
       " 'https://pt.aliexpress.com/w/wholesale-shoes-tenis.html',\n",
       " 'https://pt.aliexpress.com/w/wholesale-tenis-feminino-mulheres.html',\n",
       " 'https://pt.aliexpress.com/w/wholesale-tenis-femininos.html']"
      ]
     },
     "execution_count": 9,
     "metadata": {},
     "output_type": "execute_result"
    }
   ],
   "source": [
    "SearchForThis2.Searchft2.pesquisarProduto(\"tenis\",\"aliexpress\")"
   ]
  },
  {
   "cell_type": "code",
   "execution_count": 11,
   "id": "831c0587-01ab-492a-813e-c014f25eeff3",
   "metadata": {},
   "outputs": [],
   "source": [
    "SearchForThis2.Searchft2.visitarLink(\"gmail.com\")"
   ]
  },
  {
   "cell_type": "code",
   "execution_count": null,
   "id": "25b2a069-9453-415e-a9e0-ee9a326e2971",
   "metadata": {},
   "outputs": [],
   "source": []
  }
 ],
 "metadata": {
  "kernelspec": {
   "display_name": "Python 3 (ipykernel)",
   "language": "python",
   "name": "python3"
  },
  "language_info": {
   "codemirror_mode": {
    "name": "ipython",
    "version": 3
   },
   "file_extension": ".py",
   "mimetype": "text/x-python",
   "name": "python",
   "nbconvert_exporter": "python",
   "pygments_lexer": "ipython3",
   "version": "3.8.3"
  }
 },
 "nbformat": 4,
 "nbformat_minor": 5
}
